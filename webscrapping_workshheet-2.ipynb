{
 "cells": [
  {
   "cell_type": "code",
   "execution_count": 2,
   "id": "df64edf5",
   "metadata": {},
   "outputs": [],
   "source": [
    "import requests\n",
    "from bs4 import BeautifulSoup"
   ]
  },
  {
   "cell_type": "code",
   "execution_count": 3,
   "id": "1b7f964f",
   "metadata": {},
   "outputs": [],
   "source": [
    "# Q1\n",
    "req= requests.get(\"https://en.wikipedia.org/wiki/Main_Page\")"
   ]
  },
  {
   "cell_type": "code",
   "execution_count": 4,
   "id": "23b36f45",
   "metadata": {},
   "outputs": [
    {
     "data": {
      "text/plain": [
       "<Response [200]>"
      ]
     },
     "execution_count": 4,
     "metadata": {},
     "output_type": "execute_result"
    }
   ],
   "source": [
    "req"
   ]
  },
  {
   "cell_type": "code",
   "execution_count": 5,
   "id": "ef3a25cf",
   "metadata": {},
   "outputs": [],
   "source": [
    "soup= BeautifulSoup(req.content)\n"
   ]
  },
  {
   "cell_type": "code",
   "execution_count": 7,
   "id": "dfdab39e",
   "metadata": {},
   "outputs": [
    {
     "name": "stdout",
     "output_type": "stream",
     "text": [
      "Welcome to Wikipedia\n",
      "From today's featured article\n",
      "Did you know ...\n",
      "In the news\n",
      "On this day\n",
      "Today's featured picture\n",
      "Other areas of Wikipedia\n",
      "Wikipedia's sister projects\n",
      "Wikipedia languages\n"
     ]
    }
   ],
   "source": [
    "for i in soup.find_all('span', class_ = 'mw-headline' ):\n",
    "    print(i.text)\n",
    "    "
   ]
  },
  {
   "cell_type": "code",
   "execution_count": 8,
   "id": "c45709b4",
   "metadata": {},
   "outputs": [],
   "source": [
    "# Q2"
   ]
  },
  {
   "cell_type": "code",
   "execution_count": 148,
   "id": "19b636c0",
   "metadata": {},
   "outputs": [],
   "source": [
    "req3=requests.get('https://www.imdb.com/chart/top/?ref_=nv_mv_250')"
   ]
  },
  {
   "cell_type": "code",
   "execution_count": 150,
   "id": "dad75c5e",
   "metadata": {},
   "outputs": [],
   "source": [
    "soup2 = BeautifulSoup(req3.content)"
   ]
  },
  {
   "cell_type": "code",
   "execution_count": 161,
   "id": "2f19b24d",
   "metadata": {},
   "outputs": [],
   "source": [
    "#  scrapping movie's name data\n",
    "full=[]\n",
    "for i in soup2.find_all('a'):\n",
    "    l=i.text.split()\n",
    "    k=''.join(l)\n",
    "    #print(k)\n",
    "    full.append(k)"
   ]
  },
  {
   "cell_type": "code",
   "execution_count": 167,
   "id": "fd2e6e08",
   "metadata": {},
   "outputs": [],
   "source": [
    "mm=full[52:]"
   ]
  },
  {
   "cell_type": "code",
   "execution_count": 175,
   "id": "0dc3f728",
   "metadata": {},
   "outputs": [],
   "source": [
    "#  scrapping movie's name data\n",
    "moviename=[]\n",
    "for i in range(0,200,2):\n",
    "    ll=mm[i]\n",
    "    #print(ll)\n",
    "    moviename.append(ll)\n",
    "    "
   ]
  },
  {
   "cell_type": "code",
   "execution_count": 174,
   "id": "2abe6e2b",
   "metadata": {},
   "outputs": [
    {
     "data": {
      "text/plain": [
       "100"
      ]
     },
     "execution_count": 174,
     "metadata": {},
     "output_type": "execute_result"
    }
   ],
   "source": [
    "len(moviename)"
   ]
  },
  {
   "cell_type": "code",
   "execution_count": 273,
   "id": "f83a34b5",
   "metadata": {},
   "outputs": [],
   "source": [
    "# scrapping movie's year data\n",
    "year=[]\n",
    "for i in soup2.find_all('span', class_= 'secondaryInfo'):\n",
    "    l=i.text\n",
    "    p=l[1:-1]\n",
    "    year.append(p)    "
   ]
  },
  {
   "cell_type": "code",
   "execution_count": 280,
   "id": "eed67d91",
   "metadata": {},
   "outputs": [],
   "source": [
    "Year=year[0:100]"
   ]
  },
  {
   "cell_type": "code",
   "execution_count": 245,
   "id": "41f0e649",
   "metadata": {},
   "outputs": [],
   "source": [
    "#   scrapping movie's rating data\n",
    "rate= []\n",
    "rating=[]\n",
    "n=0\n",
    "for i in soup2.find_all('td', class_= 'ratingColumn imdbRating'):\n",
    "    if n<=99:\n",
    "    #print(i.text)\n",
    "        rate.append(i.text)\n",
    "        l=rate[n][1:4]\n",
    "        rating.append(l)\n",
    "        \n",
    "    n+=1"
   ]
  },
  {
   "cell_type": "code",
   "execution_count": 250,
   "id": "1326f1d9",
   "metadata": {},
   "outputs": [
    {
     "data": {
      "text/plain": [
       "100"
      ]
     },
     "execution_count": 250,
     "metadata": {},
     "output_type": "execute_result"
    }
   ],
   "source": [
    "len(rating)"
   ]
  },
  {
   "cell_type": "code",
   "execution_count": 252,
   "id": "1cd44b1a",
   "metadata": {},
   "outputs": [],
   "source": [
    "import pandas as pd"
   ]
  },
  {
   "cell_type": "code",
   "execution_count": 285,
   "id": "36a27bc2",
   "metadata": {},
   "outputs": [],
   "source": [
    "dic= {'Movies_name':moviename, 'Rating': rating, 'Year':Year}"
   ]
  },
  {
   "cell_type": "code",
   "execution_count": 288,
   "id": "774fc977",
   "metadata": {},
   "outputs": [],
   "source": [
    "imdb_top_100_movies=pd.DataFrame(dic)"
   ]
  },
  {
   "cell_type": "code",
   "execution_count": 290,
   "id": "18b7c006",
   "metadata": {},
   "outputs": [
    {
     "data": {
      "text/html": [
       "<div>\n",
       "<style scoped>\n",
       "    .dataframe tbody tr th:only-of-type {\n",
       "        vertical-align: middle;\n",
       "    }\n",
       "\n",
       "    .dataframe tbody tr th {\n",
       "        vertical-align: top;\n",
       "    }\n",
       "\n",
       "    .dataframe thead th {\n",
       "        text-align: right;\n",
       "    }\n",
       "</style>\n",
       "<table border=\"1\" class=\"dataframe\">\n",
       "  <thead>\n",
       "    <tr style=\"text-align: right;\">\n",
       "      <th></th>\n",
       "      <th>Movies_name</th>\n",
       "      <th>Rating</th>\n",
       "      <th>Year</th>\n",
       "    </tr>\n",
       "  </thead>\n",
       "  <tbody>\n",
       "    <tr>\n",
       "      <th>0</th>\n",
       "      <td>TheShawshankRedemption</td>\n",
       "      <td>9.2</td>\n",
       "      <td>1994</td>\n",
       "    </tr>\n",
       "    <tr>\n",
       "      <th>1</th>\n",
       "      <td>TheGodfather</td>\n",
       "      <td>9.2</td>\n",
       "      <td>1972</td>\n",
       "    </tr>\n",
       "    <tr>\n",
       "      <th>2</th>\n",
       "      <td>TheDarkKnight</td>\n",
       "      <td>9.0</td>\n",
       "      <td>2008</td>\n",
       "    </tr>\n",
       "    <tr>\n",
       "      <th>3</th>\n",
       "      <td>TheGodfatherPartII</td>\n",
       "      <td>9.0</td>\n",
       "      <td>1974</td>\n",
       "    </tr>\n",
       "  </tbody>\n",
       "</table>\n",
       "</div>"
      ],
      "text/plain": [
       "              Movies_name Rating  Year\n",
       "0  TheShawshankRedemption    9.2  1994\n",
       "1            TheGodfather    9.2  1972\n",
       "2           TheDarkKnight    9.0  2008\n",
       "3      TheGodfatherPartII    9.0  1974"
      ]
     },
     "execution_count": 290,
     "metadata": {},
     "output_type": "execute_result"
    }
   ],
   "source": [
    "imdb_top_100_movies.head(4)"
   ]
  },
  {
   "cell_type": "code",
   "execution_count": 291,
   "id": "5642fd45",
   "metadata": {},
   "outputs": [
    {
     "data": {
      "text/plain": [
       "(100, 3)"
      ]
     },
     "execution_count": 291,
     "metadata": {},
     "output_type": "execute_result"
    }
   ],
   "source": [
    "imdb_top_100_movies.shape"
   ]
  },
  {
   "cell_type": "code",
   "execution_count": 338,
   "id": "b63175bb",
   "metadata": {},
   "outputs": [],
   "source": [
    "#imdb_top_100_movies.to_csv('E:\\csv_file\\imdb_top_100_movies.csv', index=False)"
   ]
  },
  {
   "cell_type": "code",
   "execution_count": null,
   "id": "371c0d71",
   "metadata": {},
   "outputs": [],
   "source": []
  },
  {
   "cell_type": "raw",
   "id": "6474b911",
   "metadata": {},
   "source": [
    "Q3=  Write a python program to display IMDB’s Top rated 100 Indian movies’ data (i.e. name, rating, year of release) and make data frame.\n",
    "\n"
   ]
  },
  {
   "cell_type": "code",
   "execution_count": 339,
   "id": "59110ac4",
   "metadata": {},
   "outputs": [],
   "source": [
    "page3= requests.get('https://www.imdb.com/india/top-rated-indian-movies/')"
   ]
  },
  {
   "cell_type": "code",
   "execution_count": 341,
   "id": "3eaabe4d",
   "metadata": {},
   "outputs": [],
   "source": [
    "soup3=BeautifulSoup(page3.content)\n"
   ]
  },
  {
   "cell_type": "code",
   "execution_count": 362,
   "id": "2b73c807",
   "metadata": {},
   "outputs": [],
   "source": [
    "#  scraping imdb top 100 movies release 'year' Data\n",
    "year= []\n",
    "y=[]\n",
    "n=0\n",
    "for i in soup3.find_all('span',class_= 'secondaryInfo'):\n",
    "    if n<100:\n",
    "        \n",
    "        #print(i.text)\n",
    "        y.append(i.text)\n",
    "        l=y[n][1:-1]\n",
    "        year.append(l)\n",
    "    n+=1\n",
    "    #print(l)"
   ]
  },
  {
   "cell_type": "code",
   "execution_count": 363,
   "id": "f33e1a61",
   "metadata": {},
   "outputs": [
    {
     "data": {
      "text/plain": [
       "100"
      ]
     },
     "execution_count": 363,
     "metadata": {},
     "output_type": "execute_result"
    }
   ],
   "source": [
    "len(year)"
   ]
  },
  {
   "cell_type": "code",
   "execution_count": 365,
   "id": "33dba6de",
   "metadata": {},
   "outputs": [],
   "source": [
    "#  scraping imdb top 100 movies 'Name' Data\n",
    "\n",
    "mov=[]\n",
    "for i in soup3.find_all('a'):\n",
    "    #print(i.text)\n",
    "    mov.append(i.text)"
   ]
  },
  {
   "cell_type": "code",
   "execution_count": 372,
   "id": "dea78d79",
   "metadata": {},
   "outputs": [],
   "source": [
    "movie=mov[58:]"
   ]
  },
  {
   "cell_type": "code",
   "execution_count": 379,
   "id": "ca0fdc2c",
   "metadata": {},
   "outputs": [],
   "source": [
    "#  scraping imdb top 100 movies 'Name' Data\n",
    "\n",
    "indian_movies= []\n",
    "for i in range(0,200,2):\n",
    "    #print(movie[i])\n",
    "    indian_movies.append(movie[i])"
   ]
  },
  {
   "cell_type": "code",
   "execution_count": 402,
   "id": "1e717efd",
   "metadata": {},
   "outputs": [
    {
     "name": "stdout",
     "output_type": "stream",
     "text": [
      "100\n"
     ]
    }
   ],
   "source": [
    "##  scraping imdb top 100 movies 'Rating' Data\n",
    "\n",
    "r= []\n",
    "rating= []\n",
    "n=0\n",
    "for i in soup3.find_all('td', class_= 'ratingColumn imdbRating'):\n",
    "    if n<=99:\n",
    "        \n",
    "        r.append(i.text)\n",
    "        l=r[n][1:4]\n",
    "        rating.append(l)\n",
    "    n+=1\n",
    "print(len(rating))"
   ]
  },
  {
   "cell_type": "code",
   "execution_count": null,
   "id": "94e029d5",
   "metadata": {},
   "outputs": [],
   "source": []
  },
  {
   "cell_type": "code",
   "execution_count": 405,
   "id": "23277687",
   "metadata": {},
   "outputs": [],
   "source": [
    "dic3= {'Indian_movies':indian_movies, 'Year':year, 'Rating':rating}"
   ]
  },
  {
   "cell_type": "code",
   "execution_count": 407,
   "id": "9bb000de",
   "metadata": {},
   "outputs": [],
   "source": [
    "imdb_top_indian_movies= pd.DataFrame(dic3)"
   ]
  },
  {
   "cell_type": "code",
   "execution_count": 408,
   "id": "d1995f16",
   "metadata": {},
   "outputs": [
    {
     "data": {
      "text/plain": [
       "(100, 3)"
      ]
     },
     "execution_count": 408,
     "metadata": {},
     "output_type": "execute_result"
    }
   ],
   "source": [
    "#imdb_top_indian_movies.shape"
   ]
  },
  {
   "cell_type": "code",
   "execution_count": 409,
   "id": "a8b77b63",
   "metadata": {},
   "outputs": [],
   "source": [
    "#imdb_top_indian_movies.to_csv('E:\\csv_file\\imdb_top_indian_movies.csv', index=False)"
   ]
  },
  {
   "cell_type": "code",
   "execution_count": null,
   "id": "1d9a0cfe",
   "metadata": {},
   "outputs": [],
   "source": []
  },
  {
   "cell_type": "raw",
   "id": "33616ef6",
   "metadata": {},
   "source": [
    "Q8 = 8) Write a python program to scrape the details of most downloaded articles from AI in last 90 days. \n",
    "== Scrape below mentioned details :\n",
    " 1. paper title, 2.Author , 3.Published date , 4.Paper Url"
   ]
  },
  {
   "cell_type": "code",
   "execution_count": 410,
   "id": "b8bf0092",
   "metadata": {},
   "outputs": [],
   "source": [
    "page8= requests.get('https://www.journals.elsevier.com/artificial-intelligence/most-downloaded-articles')"
   ]
  },
  {
   "cell_type": "code",
   "execution_count": 411,
   "id": "c1b871a4",
   "metadata": {},
   "outputs": [],
   "source": [
    "soup8 = BeautifulSoup(page8.content)"
   ]
  },
  {
   "cell_type": "code",
   "execution_count": 453,
   "id": "38afc94e",
   "metadata": {},
   "outputs": [
    {
     "name": "stdout",
     "output_type": "stream",
     "text": [
      "Conflict-based search for optimal multi-agent pathfinding\n"
     ]
    }
   ],
   "source": [
    "# scrapping all Articles list data\n",
    "\n",
    "Articles= []\n",
    "for i in soup8.find_all('h2', class_=\"sc-1qrq3sd-1 MKjKb sc-1nmom32-0 sc-1nmom32-1 hqhUYH ebTA-dR\"):\n",
    "    Articles.append(i.text)\n",
    "print(Articles[7])"
   ]
  },
  {
   "cell_type": "code",
   "execution_count": 451,
   "id": "562a1a05",
   "metadata": {},
   "outputs": [
    {
     "name": "stdout",
     "output_type": "stream",
     "text": [
      "August 1998\n"
     ]
    }
   ],
   "source": [
    "# scrapping data ,in which date Artical download ,\n",
    "Published_date= []\n",
    "for i in soup8.find_all('span', class_=\"sc-1thf9ly-2 bKddwo\"):\n",
    "    Published_date.append(i.text)\n",
    "print(Published_date[3])"
   ]
  },
  {
   "cell_type": "code",
   "execution_count": 450,
   "id": "27559097",
   "metadata": {},
   "outputs": [
    {
     "name": "stdout",
     "output_type": "stream",
     "text": [
      "Prakken, Henry, Sartor, Giovanni \n"
     ]
    }
   ],
   "source": [
    "# scrapping data \"Article's Author name\"\n",
    "\n",
    "Author= []\n",
    "for i in soup8.find_all('span', class_=\"sc-1w3fpd7-0 pgLAT\"):\n",
    "    Author.append(i.text)\n",
    "print(Author[2])"
   ]
  },
  {
   "cell_type": "code",
   "execution_count": 448,
   "id": "b9d3c125",
   "metadata": {},
   "outputs": [
    {
     "name": "stdout",
     "output_type": "stream",
     "text": [
      "https://www.sciencedirect.com/science/article/pii/S0004370221000862\n"
     ]
    }
   ],
   "source": [
    "# Scrapping  data \" Article's URL\" \n",
    "url= []\n",
    "for i in soup8.find_all('a', class_=\"sc-5smygv-0 nrDZj\"):\n",
    "    url.append(i['href'])\n",
    "print(url[0])"
   ]
  },
  {
   "cell_type": "code",
   "execution_count": 454,
   "id": "e177d758",
   "metadata": {},
   "outputs": [],
   "source": [
    "dic8={'Articles':Articles, 'Published_date':Published_date, 'Author':Author, 'Published_Url':url}"
   ]
  },
  {
   "cell_type": "code",
   "execution_count": 455,
   "id": "ba46cab1",
   "metadata": {},
   "outputs": [],
   "source": [
    "#AI_Articles=pd.DataFrame(dic8)"
   ]
  },
  {
   "cell_type": "code",
   "execution_count": 460,
   "id": "8b6e4771",
   "metadata": {},
   "outputs": [],
   "source": [
    "#AI_Articles.to_csv('E:\\csv_file\\AI_Articles.csv', index= False)"
   ]
  },
  {
   "cell_type": "code",
   "execution_count": null,
   "id": "17c62cc3",
   "metadata": {},
   "outputs": [],
   "source": []
  },
  {
   "cell_type": "raw",
   "id": "04c87851",
   "metadata": {},
   "source": [
    "Q10=  10) Write a python program to scrape the details of top publications from Google Scholar from \n",
    ".  Rank ,  .Publication,  .h5_index,  .h5_median"
   ]
  },
  {
   "cell_type": "code",
   "execution_count": 295,
   "id": "12e0de11",
   "metadata": {},
   "outputs": [],
   "source": [
    "page10= requests.get('https://scholar.google.com/citations?view_op=top_venues&hl=en')"
   ]
  },
  {
   "cell_type": "code",
   "execution_count": 296,
   "id": "8864b8a2",
   "metadata": {},
   "outputs": [],
   "source": [
    "soup10= BeautifulSoup(page10.content)"
   ]
  },
  {
   "cell_type": "code",
   "execution_count": 329,
   "id": "792ef82a",
   "metadata": {},
   "outputs": [
    {
     "name": "stdout",
     "output_type": "stream",
     "text": [
      "100\n"
     ]
    }
   ],
   "source": [
    "# scrapping google top scholar (  RANK's DATA  )\n",
    "\n",
    "rank= []\n",
    "for i in soup10.find_all('td', class_= 'gsc_mvt_p'):\n",
    "    n= i.text\n",
    "    rank.append(n)\n",
    "    \n",
    "print(len(rank))\n",
    "    "
   ]
  },
  {
   "cell_type": "code",
   "execution_count": 327,
   "id": "5692bb81",
   "metadata": {},
   "outputs": [
    {
     "name": "stdout",
     "output_type": "stream",
     "text": [
      "100\n"
     ]
    }
   ],
   "source": [
    "# SCRAPPING DATA TOP SCHOLAR ( PUBLICATION NAMES )\n",
    "\n",
    "publication= []\n",
    "for i in soup10.find_all('td',class_= 'gsc_mvt_t'):\n",
    "    n=i.text\n",
    "    publication.append(n)\n",
    "    \n",
    "print(len(publication))"
   ]
  },
  {
   "cell_type": "code",
   "execution_count": 322,
   "id": "9223b2f1",
   "metadata": {},
   "outputs": [
    {
     "name": "stdout",
     "output_type": "stream",
     "text": [
      "200\n"
     ]
    }
   ],
   "source": [
    "# SCRAPPING DATA h5_index and h5_median\n",
    "\n",
    "h=[]\n",
    "for i in soup10.find_all('td', class_= 'gsc_mvt_n'):\n",
    "    #print(i.text)\n",
    "    h.append(i.text)\n",
    "\n",
    "print(len(h))"
   ]
  },
  {
   "cell_type": "code",
   "execution_count": 323,
   "id": "dabac379",
   "metadata": {},
   "outputs": [],
   "source": [
    "##  scrapping h5_index data\n",
    "h5_index= []\n",
    "for i in range(0,200,2):\n",
    "    h5=h[i]\n",
    "    h5_index.append(h5)"
   ]
  },
  {
   "cell_type": "code",
   "execution_count": 324,
   "id": "7e091d35",
   "metadata": {},
   "outputs": [],
   "source": [
    "#  scrapping h5_median data\n",
    "h5_median= []\n",
    "for i in range(1,201,2):\n",
    "    h5=h[i]\n",
    "    h5_median.append(h5)"
   ]
  },
  {
   "cell_type": "code",
   "execution_count": 325,
   "id": "42d09651",
   "metadata": {},
   "outputs": [
    {
     "name": "stdout",
     "output_type": "stream",
     "text": [
      "100 , 100\n"
     ]
    }
   ],
   "source": [
    "print(len(h5_median),',',len(h5_index))"
   ]
  },
  {
   "cell_type": "code",
   "execution_count": 330,
   "id": "c44fc9b1",
   "metadata": {},
   "outputs": [],
   "source": [
    "dic10={'Rank':rank, 'publication_name':publication, 'h5_index':h5_index, 'h5_median':h5_median}"
   ]
  },
  {
   "cell_type": "code",
   "execution_count": 334,
   "id": "1ab23c41",
   "metadata": {},
   "outputs": [],
   "source": [
    "#world_top_publisher = pd.DataFrame(dic10)"
   ]
  },
  {
   "cell_type": "code",
   "execution_count": 336,
   "id": "a38e3c5a",
   "metadata": {},
   "outputs": [],
   "source": [
    "#world_top_publisher.to_csv('E:\\csv_file\\world_top_publisher.csv',index=False )"
   ]
  },
  {
   "cell_type": "code",
   "execution_count": null,
   "id": "fd049e2b",
   "metadata": {},
   "outputs": [],
   "source": []
  }
 ],
 "metadata": {
  "kernelspec": {
   "display_name": "Python 3 (ipykernel)",
   "language": "python",
   "name": "python3"
  },
  "language_info": {
   "codemirror_mode": {
    "name": "ipython",
    "version": 3
   },
   "file_extension": ".py",
   "mimetype": "text/x-python",
   "name": "python",
   "nbconvert_exporter": "python",
   "pygments_lexer": "ipython3",
   "version": "3.10.2"
  }
 },
 "nbformat": 4,
 "nbformat_minor": 5
}
